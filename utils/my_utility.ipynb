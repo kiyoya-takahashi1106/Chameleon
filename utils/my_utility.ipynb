{
 "cells": [
  {
   "cell_type": "markdown",
   "id": "a7d8a84a",
   "metadata": {},
   "source": [
    "画像をlocalに保存する用"
   ]
  },
  {
   "cell_type": "code",
   "execution_count": 3,
   "id": "95ccf98d",
   "metadata": {},
   "outputs": [
    {
     "name": "stdout",
     "output_type": "stream",
     "text": [
      "保存しました: /home/kiyoya/ピクチャ/chameleon/train.png\n"
     ]
    }
   ],
   "source": [
    "import shutil\n",
    "import os\n",
    "\n",
    "def save_png(src_path: str, dst_path: str):\n",
    "    \"\"\"\n",
    "    PNG画像を指定した場所にコピーして保存する関数\n",
    "    Parameters:\n",
    "        src_path (str): コピー元のPNG画像のパス（プロジェクトルートからの相対パスか絶対パス）\n",
    "        dst_path (str): 保存先のパス（ディレクトリ or ファイルパス）\n",
    "    \"\"\"\n",
    "    # ソースファイルの存在をチェック\n",
    "    if not os.path.exists(src_path):\n",
    "        raise FileNotFoundError(\n",
    "            f\"ソースファイルが見つかりません: {src_path}\\n\" \n",
    "            \"（相対パスならプロジェクトルートを基準にしてください。例: 'result/train.png'）\"\n",
    "        )\n",
    "\n",
    "    # 保存先がディレクトリの場合、ファイル名を引き継ぐ\n",
    "    os.makedirs(dst_path, exist_ok=True)\n",
    "    dst_path = os.path.join(dst_path, os.path.basename(src_path))\n",
    "\n",
    "    # PNGファイルをコピー\n",
    "    shutil.copy2(src_path, dst_path)\n",
    "    print(f\"保存しました: {dst_path}\")\n",
    "\n",
    "src = os.path.expanduser(\"~/research/chameleon/Chameleon/result/train.png\")\n",
    "dst = os.path.expanduser(\"~/ピクチャ/chameleon\")\n",
    "save_png(src, dst)\n"
   ]
  }
 ],
 "metadata": {
  "kernelspec": {
   "display_name": "chameleon",
   "language": "python",
   "name": "python3"
  },
  "language_info": {
   "codemirror_mode": {
    "name": "ipython",
    "version": 3
   },
   "file_extension": ".py",
   "mimetype": "text/x-python",
   "name": "python",
   "nbconvert_exporter": "python",
   "pygments_lexer": "ipython3",
   "version": "3.12.3"
  }
 },
 "nbformat": 4,
 "nbformat_minor": 5
}
